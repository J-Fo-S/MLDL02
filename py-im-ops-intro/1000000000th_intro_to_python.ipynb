{
 "cells": [
  {
   "cell_type": "markdown",
   "metadata": {},
   "source": [
    "## The Billionth Introduction to Python\n",
    "\n",
    "The Billionth Introduction to Python is geared towards basic techniques that are useful for developing towards more advanced topics such as machine learning. By the end of this notebook, you will have covered:\n",
    "* [basic operations (data storage, conditionals, functions)](#Data-storage)\n",
    "* [data types in Python](#Data-types-and-conversion)\n",
    "* [packages and modules](#Packages-and-modules)\n",
    "* [reading and writing files](#Reading-and-writing-files)\n",
    "* [Numpy and Matplotlib](#Numpy-and-Matplotlib)\n",
    "\n",
    "We'll start simple, and end with some impressive techniques for manipulating arrays and matrices. \n",
    "\n",
    "**Note**: if this is your first time using a Jupyter Notebook - see the basic commands for editing and executing (running) cells [here](https://towardsdatascience.com/jypyter-notebook-shortcuts-bf0101a98330): \n"
   ]
  },
  {
   "cell_type": "markdown",
   "metadata": {},
   "source": [
    "### Data storage\n",
    "\n",
    "* We can use numbers (4, 18.5, -12.1 etc) for storing information like:\n",
    "    * Salary\n",
    "    * Age\n",
    "    * Height\n",
    "    * Cost of an item\n",
    "    * ...\n",
    "    \n",
    "```python\n",
    "#Store a value of 5 in a variable named a:\n",
    "a = 5\n",
    "\n",
    "salary = 20000\n",
    "my_age = 20\n",
    "h1 = 170\n",
    "price = 100.50\n",
    "```\n",
    "\n",
    "Tips:\n",
    "1. Variable names (a, salary, my_age, h, price) should give an idea of what value is being stored. __a = 5__ does not tell us much but __my_age == 20__ tells us that variable my_age has someone's age stored in it.\n",
    "2. Variable names should always start with an alphabet (h1 is a valid variable names but not 1h)\n",
    "\n",
    "* We can store text (\"hello\", \"Adam\", \"Washing Machine\", \"Model A15Z\"). Such a text is known as __string__\n",
    "    * Name of employee\n",
    "    * Model number of a product\n",
    "    * Phone number\n",
    "    * ...\n",
    "\n",
    "Strings are always written between '' or \"\"\n",
    "```python\n",
    "#Store a value of 'Adam' in a variable named employee_name:\n",
    "employee_name = \"Adam\"\n",
    "\n",
    "employee_phone = \"987987987\"\n",
    "employee_address = \"Lane X, Road Y, Taipei\"\n",
    "```\n",
    "\n",
    "* Retrieving information\n",
    "    * Python has a command _print_ to print a variable or a value directly\n",
    "    ```python\n",
    "    print(20000)\n",
    "    print(salary)\n",
    "    ```\n",
    "    * You can assign one variable to another variable:\n",
    "    ```python\n",
    "    my_name = employee_name\n",
    "    print(my_name)\n",
    "    ```"
   ]
  },
  {
   "cell_type": "code",
   "execution_count": null,
   "metadata": {},
   "outputs": [],
   "source": [
    "employee_name = \"Adam\"\n",
    "my_name = employee_name\n",
    "print(my_name)"
   ]
  },
  {
   "cell_type": "markdown",
   "metadata": {},
   "source": [
    "#### Example\n",
    "What will the below statements print? Why?"
   ]
  },
  {
   "cell_type": "code",
   "execution_count": null,
   "metadata": {},
   "outputs": [],
   "source": [
    "#1\n",
    "my_name = \"employee_name\"\n",
    "print(my_name)\n",
    "\n",
    "#2\n",
    "my_name = employee_name + \" Scott\"\n",
    "print(my_name)"
   ]
  },
  {
   "cell_type": "markdown",
   "metadata": {},
   "source": [
    "### Conditionals (e.g. comparisons and true/false)\n",
    "\n",
    "* You can compare if variable v1 is greater than variable v2 by using the > sign. \n",
    "* Similarly, you can compare if variable v1 is smaller than variable v2 by using the < sign. \n",
    "* If you want to compare if two variables are equal, use =="
   ]
  },
  {
   "cell_type": "code",
   "execution_count": null,
   "metadata": {},
   "outputs": [],
   "source": [
    "v1 = 17\n",
    "v2 = 10\n",
    "v3 = 10\n",
    "print(\"Comparing if v1 is smaller than v2\")\n",
    "print(v1 < v2)\n",
    "print(\"Comparing if v2 is equal to v3\")\n",
    "print(v2 == v3)"
   ]
  },
  {
   "cell_type": "markdown",
   "metadata": {},
   "source": [
    "### How to make a decision based on comparing two values\n",
    "\n",
    "Let's say you want to print \"yaay!\" if v1 and v2 are equal. You want to print \"booo!\" if they are not equal. You can use __if__ and __else__ to do so. \n",
    "\n",
    "* Notice a column (:) at the end of lines starting with if and else. \n",
    "* Notice the space in front of print statements.\n",
    "Both these things are very important otherwise the code with fail to execute.\n",
    "\n",
    "![](images/if.png)"
   ]
  },
  {
   "cell_type": "code",
   "execution_count": null,
   "metadata": {},
   "outputs": [],
   "source": [
    "if v1 == v2:\n",
    "    print(\"yaay!\")\n",
    "else:\n",
    "    print(\"booo!\")"
   ]
  },
  {
   "cell_type": "markdown",
   "metadata": {},
   "source": [
    "We can utilize multiple conditional statements together as well by using the **elif** statement. Note that if statements can be **independent** from one another, **conditional** upon one another, or **nested**. See below. "
   ]
  },
  {
   "cell_type": "code",
   "execution_count": null,
   "metadata": {},
   "outputs": [],
   "source": [
    "country = \"blah\"\n",
    "\n",
    "# elif and else are conditional upon if being true or false\n",
    "if country == \"America\" or country == \"UK\" or country == \"Australia\":\n",
    "    print(\"You are a native English speaker\")\n",
    "elif country == \"China\" or country == \"Korea\" or country == \"Japan\":\n",
    "    # an if statement inside another if/elif/else statement is \"nested\"\n",
    "    if country == \"China\":\n",
    "        print(\"You are a native Chinese speaker\")\n",
    "    elif country == \"Japan\" or \"Korea\":\n",
    "        print(\"You are either a native Japanese or Korean speaker\")       \n",
    "else:\n",
    "    country = \"Unknown\"\n",
    "    print(country)\n",
    "    \n",
    "# a second if statement is independent if not inside the scope of another if statement\n",
    "if country == \"Unknown\":\n",
    "    print(\"We don't know the language you speak\")"
   ]
  },
  {
   "cell_type": "markdown",
   "metadata": {},
   "source": [
    "### Functions\n",
    "\n",
    "Consider the piece of code show below:\n",
    "```python\n",
    "if country == \"America\" or country == \"UK\" or country == \"Australia\":\n",
    "    print(\"You are a native English speaker\")\n",
    "elif country == \"China\" or country == \"Korea\" or country == \"Japan\":\n",
    "    print(\"你是亞洲人\")\n",
    "else:\n",
    "    print(\"I do not know who you are\")\n",
    "```\n",
    "\n",
    "Let's say you want to run the above piece of code for different values of _country_. It is cumbersome to type out entire six lines every single time. How do we solve this problem?\n",
    "\n",
    "We can give this set of lines a name, say _whichCountry_. We can execute all six lines by just calling it by the name _whichCountry_. We call it a function. In this case, _whichCountry_ is a function.\n",
    "\n",
    "```python\n",
    "whichCountry()\n",
    "```\n",
    "\n",
    "#### How to write a function\n",
    "We can write, or __define__ a new function using the __def__. Notice the column at the end of first line and the tab space for all the lines under the function."
   ]
  },
  {
   "cell_type": "code",
   "execution_count": null,
   "metadata": {},
   "outputs": [],
   "source": [
    "def whichCountry():\n",
    "    if country == \"America\" or country == \"UK\" or country == \"Australia\":\n",
    "        print(\"You are a native English speaker\")\n",
    "    elif country == \"China\" or country == \"Korea\" or country == \"Japan\":\n",
    "        print(\"你是亞洲人\")\n",
    "    else:\n",
    "        print(\"I do not know who you are\")\n",
    "\n",
    "country = \"Japan\"\n",
    "whichCountry()\n",
    "\n",
    "country = \"UK\"\n",
    "whichCountry()"
   ]
  },
  {
   "cell_type": "markdown",
   "metadata": {},
   "source": [
    "#### Function parameters\n",
    "\n",
    "Instead of changing the value of _country_ variable everytime, wouldn't it be convenient to provide the value of country directly to the function and execute the function like:\n",
    "\n",
    "```python\n",
    "whichCountry(\"America\")\n",
    "```\n",
    "\n",
    "In this way, we don't have to keep changing the value of _country_ everytime we want to call _whichCountry_ function. We can do so by providing the value of country to the brackets () while defining the function:"
   ]
  },
  {
   "cell_type": "code",
   "execution_count": null,
   "metadata": {},
   "outputs": [],
   "source": [
    "def whichCountry(c):\n",
    "    if c == \"America\" or c == \"UK\" or c == \"Australia\":\n",
    "        print(\"You are a native English speaker\")\n",
    "    elif c == \"China\" or c == \"Korea\" or c == \"Japan\":\n",
    "        print(\"你是亞洲人\")\n",
    "    else:\n",
    "        print(\"I do not know who you are\")\n",
    "\n",
    "whichCountry(\"America\")\n",
    "whichCountry(\"Korea\")\n",
    "whichCountry(\"Afghanistan\")"
   ]
  },
  {
   "cell_type": "markdown",
   "metadata": {},
   "source": [
    "c is called an **argument** (though some might say a **parameter**. A function can have zero, one or more than one arguments and/or parameters.\n",
    "\n",
    "```python\n",
    "def sum(i,j):\n",
    "    print(\"sum of two given numbers is:\", i+j)\n",
    "```\n",
    "Function parameters can also have a default value. The default value is overriden if the function is called with that parameter. If the function is called without that parameter, the default value is used.\n"
   ]
  },
  {
   "cell_type": "code",
   "execution_count": null,
   "metadata": {},
   "outputs": [],
   "source": [
    "def sum(i=0,j=1):\n",
    "    return(i+j)\n",
    "\n",
    "#i = 2 and j = 3\n",
    "sum(2,3)"
   ]
  },
  {
   "cell_type": "code",
   "execution_count": null,
   "metadata": {},
   "outputs": [],
   "source": [
    "#Only one value is provided. Hence i = 2 and j = 1 (default value)\n",
    "sum(2)"
   ]
  },
  {
   "cell_type": "code",
   "execution_count": null,
   "metadata": {},
   "outputs": [],
   "source": [
    "#No values are provided. Hence default values for i and j are used\n",
    "sum()"
   ]
  },
  {
   "cell_type": "markdown",
   "metadata": {},
   "source": [
    "#### Function _return_\n",
    "\n",
    "A function can _return_ a value. It can be any kind of value. The below function returns sum to two variables:\n",
    "```python\n",
    "def sum(i,j):\n",
    "    return i+j\n",
    "```\n",
    "\n",
    "After the return function is called, the function stops executing. Everything after return statement is ignored."
   ]
  },
  {
   "cell_type": "code",
   "execution_count": null,
   "metadata": {},
   "outputs": [],
   "source": [
    "def sum(i,j):\n",
    "    print(\"This line will be printed\")\n",
    "    return i+j\n",
    "    print(\"This line will not be printed\")\n",
    "    \n",
    "sum(5,8)"
   ]
  },
  {
   "cell_type": "markdown",
   "metadata": {},
   "source": [
    "#### Example\n",
    "Write a function _oddeven_ that takes two numbers as parameters. If the sum of two numbers is even, return a value equal to their sum divided by 2. If the sum of two numbers is odd, return the difference of two numbers. \n",
    "\n",
    "Example:\n",
    "oddeven(2,3) will return -1\n",
    "oddeven(3,2) will return 1\n",
    "oddeven(5,7) will return 6\n",
    "\n",
    "__Note__: a % b gives the remainder when a is divided by b"
   ]
  },
  {
   "cell_type": "code",
   "execution_count": null,
   "metadata": {},
   "outputs": [],
   "source": [
    "def oddeven(i,j):\n",
    "    if (i+j) % 2 == 0:\n",
    "        return (i+j)/2\n",
    "    else:\n",
    "        return i-j\n",
    "    \n",
    "print(oddeven(2,3))\n",
    "print(oddeven(3,2))\n",
    "print(oddeven(5,7))"
   ]
  },
  {
   "cell_type": "code",
   "execution_count": null,
   "metadata": {},
   "outputs": [],
   "source": [
    "# Or, perhaps we wish to store the function's return in a variable\n",
    "\n",
    "def oddeven(i,j):\n",
    "    if (i+j) % 2 == 0:\n",
    "        return (i+j)/2\n",
    "    else:\n",
    "        return i-j\n",
    "\n",
    "store_return = oddeven(2,3)\n",
    "    \n",
    "print(store_return)"
   ]
  },
  {
   "cell_type": "markdown",
   "metadata": {},
   "source": [
    "#### 3.4 Recursion\n",
    "\n",
    "We can call a function f from inside the function f:\n",
    "\n",
    "```python\n",
    "def recursiveFunction(n):\n",
    "    if n == 0:\n",
    "        return n\n",
    "    else:\n",
    "        recursiveFunction(n-1)\n",
    "```\n",
    "\n",
    "This is known as recursion. Recursion is a powerful strategy. However, be careful about the following point:\n",
    "* A recursive function should have a condition which, when true, will return a value and end the function. Otherwise, the function will fall into an infinite loop and keep calling itself forever.\n",
    "\n",
    "#### Example\n",
    "Write a function fact that takes a number n as an argument and returns the factorial of n.\n",
    "\n",
    "Factorial of a number n is the product n * (n-1) * (n-2) * ... * 1\n",
    "Factorial of 0 is 1\n",
    "\n",
    "fact(5) should return 120\n",
    "fact(0) should return 1"
   ]
  },
  {
   "cell_type": "code",
   "execution_count": null,
   "metadata": {},
   "outputs": [],
   "source": [
    "def fact(n):\n",
    "    print(\"factorial has been called with \",n)\n",
    "    if n == 0 or n == 1:\n",
    "        return 1\n",
    "    else:\n",
    "        res = n * fact(n-1)\n",
    "        print(\"intermediate result for \", n, \" * factorial(\" ,n-1, \"): \",res)\n",
    "        return res\n",
    "\n",
    "a = fact(5)\n",
    "#b = fact(0)\n",
    "\n",
    "print(a)"
   ]
  },
  {
   "cell_type": "markdown",
   "metadata": {},
   "source": [
    "### Important in-built functions and loops\n",
    "\n",
    "We will take a look at some important in-built functions in Python. Many of these loop - *iterate* - through their contents\n",
    "\n",
    "#### _range_ function\n",
    "_range_ function helps you iterate over a range of numbers. It can take one, two or three parameters. Let's take a look at it works:"
   ]
  },
  {
   "cell_type": "code",
   "execution_count": null,
   "metadata": {},
   "outputs": [],
   "source": [
    "#range function with one argument (n) iterates from 0 to n-1.\n",
    "# i is a common variable name for \"index\". We mean: for each number in the range of 5, print the value\n",
    "for i in range(5):\n",
    "    print(i)"
   ]
  },
  {
   "cell_type": "code",
   "execution_count": null,
   "metadata": {},
   "outputs": [],
   "source": [
    "#range function with two arguments (j,k) iterates from j to k-1\n",
    "for i in range(5,11):\n",
    "    print(i)"
   ]
  },
  {
   "cell_type": "code",
   "execution_count": null,
   "metadata": {},
   "outputs": [],
   "source": [
    "#range function with three arguments (j,k,l) iterates from j to k-1 but increments by l\n",
    "for i in range(5,16,3):\n",
    "    print(i)"
   ]
  },
  {
   "cell_type": "markdown",
   "metadata": {},
   "source": [
    "#### _max_ and _min_ functions\n",
    "\n",
    "_max_ takes an array as an argument and returns the element with maximum value. _min_ returns the minimum value."
   ]
  },
  {
   "cell_type": "code",
   "execution_count": null,
   "metadata": {},
   "outputs": [],
   "source": [
    "max([2,3,5,6,4,1])"
   ]
  },
  {
   "cell_type": "code",
   "execution_count": null,
   "metadata": {},
   "outputs": [],
   "source": [
    "# we can even take the ASCI value of strings/character symbols\n",
    "min(['a','b'])"
   ]
  },
  {
   "cell_type": "markdown",
   "metadata": {},
   "source": [
    "#### _zip_ function\n",
    "\n",
    "_zip_ function takes one or more arguments and returns a set of **tuples** such that i-th tuple contains i-th elements from each argument. Let's try to understand it better from the examples:"
   ]
  },
  {
   "cell_type": "code",
   "execution_count": null,
   "metadata": {},
   "outputs": [],
   "source": [
    "a = [1,2]\n",
    "b = ['One','Two']\n",
    "\n",
    "#Now to view the contents of zip, we must use the list built-in function to list them\n",
    "\n",
    "list(zip(a,b))"
   ]
  },
  {
   "cell_type": "code",
   "execution_count": null,
   "metadata": {},
   "outputs": [],
   "source": [
    "list(zip(a,b,['uno','dos']))"
   ]
  },
  {
   "cell_type": "code",
   "execution_count": null,
   "metadata": {},
   "outputs": [],
   "source": [
    "# Or to get really fancy we can use the *args argument to 'unzip' the zip\n",
    "zipped = list(zip(a,b,['uno','dos']))\n",
    "print(zipped)\n",
    "\n",
    "unzipped = list(zip(*zipped))\n",
    "print(unzipped)"
   ]
  },
  {
   "cell_type": "markdown",
   "metadata": {},
   "source": [
    "#### Example\n",
    "Write a function _dist_ that takes two points as arguments and prints the cartesian distance between them.\n",
    "\n",
    "A point in 3D is represented by three co-ordinates (x,y,z)\n",
    "Cartesian distance between points (x1,y1,z1) and (x2,y2,z2) is square root of (x1-x2)^2 + (y1-y2)^2 + (z1-z2)^2\n",
    "\n",
    "__Note__: pow(a,b) returns the value of a raised to the power b. Eg pow(4,2) = 16 and pow(4, 0.5) = 2"
   ]
  },
  {
   "cell_type": "code",
   "execution_count": null,
   "metadata": {},
   "outputs": [],
   "source": [
    "def dist(p1, p2):\n",
    "    d = 0\n",
    "    for i in zip(p1,p2):\n",
    "        d = d + pow(i[0]-i[1],2)\n",
    "    return pow(d, 0.5)\n",
    "\n",
    "a = (1,3,2)\n",
    "b = (4,3,1)\n",
    "dist(a,b)\n"
   ]
  },
  {
   "cell_type": "markdown",
   "metadata": {},
   "source": [
    "#### _sorted_ function\n",
    "\n",
    "_sorted_ function takes at least one parameter and at most three. First parameter can be a list to be sorted."
   ]
  },
  {
   "cell_type": "code",
   "execution_count": null,
   "metadata": {},
   "outputs": [],
   "source": [
    "sorted([2,3,4,1,5])"
   ]
  },
  {
   "cell_type": "code",
   "execution_count": null,
   "metadata": {},
   "outputs": [],
   "source": [
    "#setting reverse = True will sort in reverse order\n",
    "a = [(\"apple\",5),(\"banana\",8),(\"pear\",3),(\"guava\",9)]\n",
    "sorted(a, reverse=True)"
   ]
  },
  {
   "cell_type": "markdown",
   "metadata": {},
   "source": [
    "Note that in the above example, tuples were sorted according to their first elements (pear, guava, banana, apple). How do we sort them according to their second element (3,5,8,9)? We can provide a function as an argument to _key_ inside sorted function. This function is applied to each element of the list being sorted. The sorting is then done on the outcome of the function."
   ]
  },
  {
   "cell_type": "code",
   "execution_count": null,
   "metadata": {},
   "outputs": [],
   "source": [
    "#element2 returns second element for a given list or tuple\n",
    "#note zero-indexes - the first element is indexed by a [0] and not a [1]. [1] then is the 2nd element.\n",
    "def element2(l_or_t):\n",
    "    return l_or_t[1]\n",
    "\n",
    "#in this case, elements will be sorted by second element in each tuple\n",
    "sorted(a, key=element2)"
   ]
  },
  {
   "cell_type": "markdown",
   "metadata": {},
   "source": [
    "### Test Yourself 1 \n",
    "#### rewrite the function element2 so that it can be passed a list or tuple and returned sorted\n",
    "e.g.\n",
    "```python\n",
    "def element2([YOUR CODE]):\n",
    "    [YOUR CODE HERE]\n",
    "    return sorted ([YOUR CODE HERE])\n",
    "```"
   ]
  },
  {
   "cell_type": "markdown",
   "metadata": {},
   "source": [
    "### Data types and conversion\n",
    "\n",
    "Data types are important to be aware of. They can cause our code to fail or give very different results than we intend if we are not mindful. We will often work with the following data types:\n",
    "\n",
    "Primitives (singular values)\n",
    "* int\n",
    "* float\n",
    "* str\n",
    "* bool\n",
    "\n",
    "Non-primitives (collections of values)\n",
    "* tuple\n",
    "* list\n",
    "* array\n",
    "* dict\n"
   ]
  },
  {
   "cell_type": "markdown",
   "metadata": {},
   "source": [
    "#### Type() and implicit vs explicit conversion\n",
    "\n",
    "We can use type(*arg*) to check what type of data any object is. Also, in some operations data type conversion will be implicit (Python does it automatically). Other times we need to explicitly convert data types ourselves."
   ]
  },
  {
   "cell_type": "code",
   "execution_count": null,
   "metadata": {},
   "outputs": [],
   "source": [
    "#implicit data type conversion\n",
    "\n",
    "a_int = 1\n",
    "b_float = 1.0\n",
    "c_sum = a_int + b_float\n",
    "print(c_sum)\n",
    "print(type(c_sum))"
   ]
  },
  {
   "cell_type": "code",
   "execution_count": null,
   "metadata": {},
   "outputs": [],
   "source": [
    "# explicit type conversion\n",
    "\n",
    "print(int(c_sum))\n",
    "c_sum"
   ]
  },
  {
   "cell_type": "markdown",
   "metadata": {},
   "source": [
    "### Mutable vs. immutable properties of lists vs. tuples\n",
    "\n",
    "A main difference between a list and a tuple is that lists are mutable (they can be modified intrinsically), while tuples are immutable (they cannot be modified intrinsically, but can be operated on externally). This can cause confusion when we are programming, so make a mental note. See the below for clarification in code.  \n",
    "\n",
    "(example modded from https://en.wikibooks.org/wiki/Python_Programming/Data_Types)"
   ]
  },
  {
   "cell_type": "code",
   "execution_count": null,
   "metadata": {},
   "outputs": [],
   "source": [
    "def append_to_sequence (myseq):\n",
    "    myseq += (9,9,9)\n",
    "    return myseq\n",
    "\n",
    "tuple1 = (1,2,3) # tuples are immutable\n",
    "list1 = [1,2,3] # lists are mutable\n",
    "\n",
    "tuple2 = append_to_sequence(tuple1)\n",
    "list2 = append_to_sequence(list1.copy())\n",
    "\n",
    "print('tuple1 = ', tuple1) \n",
    "print('tuple2 = ', tuple2) \n",
    "print('list1 = ', list1)\n",
    "print('list2 = ', list2)\n",
    "\n",
    "# Note what happens to list1 w/out .copy()\n",
    "list3 = append_to_sequence(list1)\n",
    "print('list1 = ', list1)\n",
    "print('list3 = ', list3) "
   ]
  },
  {
   "cell_type": "markdown",
   "metadata": {},
   "source": [
    "### Lists\n",
    "\n",
    "#### Creating lists\n",
    "Sometimes we might need to store a lot of values together. For example, an HR may need to store a list of names of employees in their company. One way to do so is:\n",
    "```python\n",
    "n1 = 'Adam'\n",
    "n2 = 'Scott'\n",
    "..\n",
    "..\n",
    "n100 = 'Mark'\n",
    "```\n",
    "\n",
    "But this is impractical. A better way to store many values together is using a __list__. A list is a collection of items together. All items are put together between [ and ] as shown below:\n",
    "\n",
    "```python\n",
    "names = ['Adam','Scott','Chris',...,'Mark']\n",
    "```\n",
    "\n",
    "_names_ is a variable which stores a list.\n",
    "\n",
    "* names[0] will give you first item in the list\n",
    "* names[1] will give you second item in the list\n",
    "\n",
    "#### Example\n",
    "Write a function _getIinList_ which takes a list (l) as a first parameter and an index number (i) as the second parameter. It returns the i-th member of list l. If i is greater than or equal to the number of elements in l, it will print a message 'Please provide a valid index'\n",
    "\n",
    "Example:\n",
    "getIinList([1,3,6],2) returns 6\n",
    "getIinList([\"A\",\"Vf\",\"DE\",\"DS\"],1) returns Vf\n",
    "\n",
    "__Note__: Function len(l) returns the number of elements in list l"
   ]
  },
  {
   "cell_type": "code",
   "execution_count": null,
   "metadata": {},
   "outputs": [],
   "source": [
    "def getIinList(l, i):\n",
    "    if i < len(l):\n",
    "        return l[i]\n",
    "    else:\n",
    "        print('Please provide a valid index')\n",
    "\n",
    "getIinList([1,3,6],2)\n"
   ]
  },
  {
   "cell_type": "code",
   "execution_count": null,
   "metadata": {},
   "outputs": [],
   "source": [
    "getIinList([\"A\",\"Vf\",\"DE\",\"DS\"],1)"
   ]
  },
  {
   "cell_type": "code",
   "execution_count": null,
   "metadata": {},
   "outputs": [],
   "source": [
    "getIinList([\"A\",\"Vf\",\"DE\",\"DS\"],5)"
   ]
  },
  {
   "cell_type": "code",
   "execution_count": null,
   "metadata": {},
   "outputs": [],
   "source": [
    "# strings are also lists\n",
    "getIinList(\"Elephant\",3)"
   ]
  },
  {
   "cell_type": "markdown",
   "metadata": {},
   "source": [
    "#### Accessing each element of a list\n",
    "\n",
    "Many operations require us to check every element in a list. For example, given a list of marks in a math test, we might want to check how many students achieved more than 90%. To access each element in a list one at a time, use _for_ command:\n",
    "\n",
    "```python\n",
    "marks = [90,88,100,78]\n",
    "for mark in marks:\n",
    "    if mark > 90:\n",
    "        print('Good job!')\n",
    "    print(mark)\n",
    "```\n",
    "\n",
    "Notice the column (:) in the first row and the tab space for all lines under _for_\n",
    "\n",
    "#### Example\n",
    "Create a list of names called _n_ and store four names in it: 'Adam', 'Peter', 'Derek', 'Aaron'. Write a function _anames_ that takes a list as a parameter and prints all names in that list that start with 'A'\n",
    "\n",
    "__Note__: 'Hello'[0] returns the first element of the list 'Hello'"
   ]
  },
  {
   "cell_type": "code",
   "execution_count": null,
   "metadata": {},
   "outputs": [],
   "source": [
    "n = ['Adam', 'Peter', 'Derek', 'Aaron']\n",
    "\n",
    "def anames(l):\n",
    "    for name in l:\n",
    "        if name[0] == 'A':\n",
    "            print(name)\n",
    "            \n",
    "anames(n)"
   ]
  },
  {
   "cell_type": "markdown",
   "metadata": {},
   "source": [
    "#### Checking if a list contains an element\n",
    "\n",
    "To check whether a list l contains an element e, use _in_ as shown:\n",
    "\n",
    "```python\n",
    "e in l\n",
    "```\n",
    "\n",
    "The expression _e in l_ will return True if the element e is in l and False otherwise."
   ]
  },
  {
   "cell_type": "code",
   "execution_count": null,
   "metadata": {},
   "outputs": [],
   "source": [
    "names = ['Adam','Scott','Eve']\n",
    "if 'Adam' in names:\n",
    "    print('Adam is in our record')\n",
    "else:\n",
    "    print('We do not know who Adam is')"
   ]
  },
  {
   "cell_type": "markdown",
   "metadata": {},
   "source": [
    "#### List operations\n",
    "\n",
    "In the previous section, we learnt how to define a list and get elements from a list. In this section we will learn how to add/delete elements to/from a list and how to add two lists together. We will also learn more advanced techniques of extracting elements from lists.\n",
    "\n",
    "Let's define two lists as shown:"
   ]
  },
  {
   "cell_type": "code",
   "execution_count": null,
   "metadata": {
    "scrolled": true
   },
   "outputs": [],
   "source": [
    "a,b = ['adam','ben','cart','mark'],['mike']\n",
    "print(a)\n",
    "print(b)\n"
   ]
  },
  {
   "cell_type": "markdown",
   "metadata": {},
   "source": [
    "Two lists can be added in the same way two numbers are added: using a + sign"
   ]
  },
  {
   "cell_type": "code",
   "execution_count": null,
   "metadata": {},
   "outputs": [],
   "source": [
    "ab = a + b\n",
    "ba = b + a\n",
    "\n",
    "#Notice the difference in sequence of elements\n",
    "print(ab)\n",
    "print(ba)\n",
    "print(\"First element of list ab is\",ab[0])\n",
    "print(\"First element of list ba is\",ba[0])\n"
   ]
  },
  {
   "cell_type": "markdown",
   "metadata": {},
   "source": [
    "#### Adding elements to lists\n",
    "\n",
    "You can't add an element to a list using a + sign. \n",
    "\n",
    "To add an element to the end of list, use _append_ with one parameter:"
   ]
  },
  {
   "cell_type": "code",
   "execution_count": null,
   "metadata": {},
   "outputs": [],
   "source": [
    "c = a + b\n",
    "\n",
    "c.append('Crawford')\n",
    "print(c)"
   ]
  },
  {
   "cell_type": "markdown",
   "metadata": {},
   "source": [
    "To add an element at a fixed position (not necessarily end of list), use _insert_ with two parameters (index of where to insert, element to insert):"
   ]
  },
  {
   "cell_type": "code",
   "execution_count": null,
   "metadata": {},
   "outputs": [],
   "source": [
    "c.insert(2,'steve')\n",
    "print(c)"
   ]
  },
  {
   "cell_type": "markdown",
   "metadata": {},
   "source": [
    "To reverse the list, use _reverse_ with no argument:"
   ]
  },
  {
   "cell_type": "code",
   "execution_count": null,
   "metadata": {},
   "outputs": [],
   "source": [
    "print(c)\n",
    "c.reverse()\n",
    "print(c)"
   ]
  },
  {
   "cell_type": "markdown",
   "metadata": {},
   "source": [
    "#### Negative indices in list\n",
    "\n",
    "Given a list l, we can get the i-th element from beginning by _l[i]_.\n",
    "\n",
    "But what if we want to get the last element of l or i-th elements from the end of l? One way is to find out the length of the list and use it to get the last i-th element:"
   ]
  },
  {
   "cell_type": "code",
   "execution_count": null,
   "metadata": {},
   "outputs": [],
   "source": [
    "print(c)\n",
    "length = len(c)\n",
    "print('length of c is', length)\n",
    "\n",
    "#last element in list c\n",
    "last = c[length-1]\n",
    "print('last element in c:')\n",
    "print(last)\n",
    "\n",
    "#3rd last element in list c\n",
    "print('3rd last element in c:')\n",
    "print(c[length - 3])"
   ]
  },
  {
   "cell_type": "markdown",
   "metadata": {},
   "source": [
    "But this approach is very cumbersome. Fortunately there is a much better way of getting i-th element from the end: using negative index. \n",
    "\n",
    "_l[-1]_ gives us the last element in list l. Similarly _l[-3]_ gives us 3rd last element in list l."
   ]
  },
  {
   "cell_type": "code",
   "execution_count": null,
   "metadata": {},
   "outputs": [],
   "source": [
    "print(c)\n",
    "\n",
    "print(c[-1])\n",
    "\n",
    "print(c[-3])"
   ]
  },
  {
   "cell_type": "markdown",
   "metadata": {},
   "source": [
    "#### Getting a subset of list\n",
    "\n",
    "Many times we want only a specific section - called a subset - of a list. We can use the format l[i:i+n]\n",
    "\n",
    "For example, c[1:4] will return 1st, 2nd and 3rd element from the list l. Note that c[1:4] does not return element at index 4:"
   ]
  },
  {
   "cell_type": "code",
   "execution_count": null,
   "metadata": {},
   "outputs": [],
   "source": [
    "print(c)\n",
    "c[1:4]"
   ]
  },
  {
   "cell_type": "markdown",
   "metadata": {},
   "source": [
    "If you want first n elements of a list l (from i = 0 to i = n), you can use:"
   ]
  },
  {
   "cell_type": "code",
   "execution_count": null,
   "metadata": {},
   "outputs": [],
   "source": [
    "c[:4]"
   ]
  },
  {
   "cell_type": "markdown",
   "metadata": {},
   "source": [
    "Or the last n elements:"
   ]
  },
  {
   "cell_type": "code",
   "execution_count": null,
   "metadata": {},
   "outputs": [],
   "source": [
    "c[-4:]"
   ]
  },
  {
   "cell_type": "markdown",
   "metadata": {},
   "source": [
    "#### Example\n",
    "\n",
    "Use the above list c and write an expression to get a subset of c that contains elements starting from 2nd element upto (and not including) the 2nd last element of c.\n",
    "\n",
    "Hint: l[i:j] returns a subset containing elements from i to j (not including j). i and j can also be negative"
   ]
  },
  {
   "cell_type": "code",
   "execution_count": null,
   "metadata": {},
   "outputs": [],
   "source": [
    "print(c)\n",
    "\n",
    "c[2:-2]"
   ]
  },
  {
   "cell_type": "markdown",
   "metadata": {},
   "source": [
    "### Test Yourself 2\n",
    "#### Define a function that can be passed two lists and returns the concatenation of the first half of the first list with the second half of the second list\n",
    "e.g.\n",
    "```python\n",
    "def concat_lists([YOUR CODE HERE]):\n",
    "    [YOUR CODE HERE]\n",
    "    return [YOUR CODE HERE]\n",
    "```"
   ]
  },
  {
   "cell_type": "markdown",
   "metadata": {},
   "source": [
    "### Packages and modules\n",
    "\n",
    "Let's say you want to use functions and variables written by someone else. How do you do so? A module is a file containing Python definitions and statements. The file name is the module name with the suffix .py appended. You can use _import_ followed by the module name to be able to use everything defined under the module.\n",
    "\n",
    "We have created a python file named dist.py in the *current working space* (this method only works if in same directory). Contents of the file are shown below:\n",
    "\n",
    "```python\n",
    "def calculateDist(p1,p2):\n",
    "\tdist=0\n",
    "\tc=zip(p1,p2)\n",
    "\tfor i in c:\n",
    "\t\tdist = dist+pow(i[0]-i[1],2)\n",
    "\tdist = pow(dist,0.5)\n",
    "\treturn dist\n",
    "    \n",
    "p1 = (3,6,1)\n",
    "p2 = (2,4,5)\n",
    "```\n",
    "\n",
    "We can import the entire module and use its contents by using the format module_name.variable_name or module_name.function_name:"
   ]
  },
  {
   "cell_type": "code",
   "execution_count": null,
   "metadata": {},
   "outputs": [],
   "source": [
    "import dist\n",
    "\n",
    "pointA = dist.p1\n",
    "pointB = dist.p2\n",
    "print(\"Points given are:\", pointA, \"and\", pointB)\n",
    "distance = dist.calculateDist(pointA, pointB)\n",
    "print(\"Distance between points is\", distance)"
   ]
  },
  {
   "cell_type": "markdown",
   "metadata": {},
   "source": [
    "Often a module contains many variables and functions. We only need some of them. So it's better to import only the functions or variables that we need instead of importing everything. Also, sometimes we might wish to use abbreviations for verbose names. This can be done in the following manner:"
   ]
  },
  {
   "cell_type": "code",
   "execution_count": null,
   "metadata": {
    "scrolled": true
   },
   "outputs": [],
   "source": [
    "#Import module function and abbreviate\n",
    "\n",
    "from dist import calculateDist as calDist\n",
    "\n",
    "#Note that in this case we need not use the format dist.calculateDist\n",
    "print(calDist((1,2),(2,1)))\n",
    "\n",
    "#Note that in this case we need not use the format dist.p1\n",
    "from dist import p1\n",
    "print(p1)"
   ]
  },
  {
   "cell_type": "markdown",
   "metadata": {},
   "source": [
    "-----\n",
    "### Using built-in module 'collections'\n",
    "\n",
    "You will often find yourself using modules built by others while programming in Python. In this section, we will focus on using Counter function in various forms from the module Collections. This should give you an idea of how to use and experiment with different modules."
   ]
  },
  {
   "cell_type": "markdown",
   "metadata": {},
   "source": [
    "Let's say you have a list l that stores ages of children in a class as shown:\n",
    "\n",
    "```python\n",
    "l = [6,7,8,9,8,7,5,7,8,9,7,5,7,8,7,5,7,9,7]\n",
    "```\n",
    "\n",
    "You want to get the frequency distribution of ages. In other words, you want to find out how many children are 6 years old, how many are 7 years old and so on. How will you solve this problem? _Counter_ object from _collections_ module can be used in such a case:"
   ]
  },
  {
   "cell_type": "code",
   "execution_count": null,
   "metadata": {},
   "outputs": [],
   "source": [
    "l = [6,7,8,9,8,7,5,7,8,9,7,5,7,8,7,5,7,9,7]\n",
    "\n",
    "from collections import Counter\n",
    "\n",
    "counts = Counter(l)\n",
    "\n",
    "counts"
   ]
  },
  {
   "cell_type": "markdown",
   "metadata": {},
   "source": [
    "Counter() function returns a dict like object that stores the number of counts of each element."
   ]
  },
  {
   "cell_type": "code",
   "execution_count": null,
   "metadata": {},
   "outputs": [],
   "source": [
    "counts[7]"
   ]
  },
  {
   "cell_type": "markdown",
   "metadata": {},
   "source": [
    "There are 8 children whose age is 7 years.\n",
    "\n",
    "Since strings are also lists, _Counter_ can also be used on strings:"
   ]
  },
  {
   "cell_type": "code",
   "execution_count": null,
   "metadata": {},
   "outputs": [],
   "source": [
    "c = Counter('mississippi')\n",
    "print(c)\n",
    "\n",
    "#You can use the counter to get the count of any string\n",
    "print('Number of occurences of k in mississippi is',c['k'])"
   ]
  },
  {
   "cell_type": "markdown",
   "metadata": {},
   "source": [
    "Often, you need to see most common elements in a list. For example, in a given piece of text, you might want to know 10 most common words. _Counter_ provides a function _most\\_common_ which takes the number of common elements to show:"
   ]
  },
  {
   "cell_type": "code",
   "execution_count": null,
   "metadata": {},
   "outputs": [],
   "source": [
    "#Let us find out the most common words in an article by WSJ:\n",
    "wsj = '''Sibling rivalry has helped Fariborz Ghadar, 69, and his sister, Margaret Ghadar, 65, grow closer—and healthier. For the past three years, the two have met regularly for squash dates in Washington, D.C. “The beauty of playing with my sister is that I can’t stand her up,” Dr. Ghadar says. “She’ll get really angry if I don’t keep my commitment.”\n",
    "\n",
    "The siblings attended universities in Boston and played squash together in their 20s. After graduation, Ms. Ghadar went on to become a vice president at J.P. Morgan in New York City and Dr. Ghadar entered investment banking in Washington and founded the Center for Global Business Studies at Penn State University.\n",
    "\n",
    "Their careers left little time for family get-togethers, let alone workouts. “My job required a lot of travel and many fancy meals,” he says. That led to weight gain and subsequent back pain.\n",
    "\n",
    "Dr. Ghadar moved to Washington, where his sister is now semiretired. He commutes three hours a few times a week to teach courses at Penn State. “My sister was into spinning and would drag me to classes at Equinox, but I felt it was a lot of sweat, and no fun,” he says. “Neither of us were into running, so she suggested we pick up squash again.”\n",
    "\n",
    "Squash is played in a four-walled court with a small rubber ball. Once the ball is served, players take turns hitting it against the front wall. The ball may strike the side or back walls, but may only bounce once on the floor. The Ghadars hired a coach, Amir Wagih, to train them three times a week.\n",
    "\n",
    "The sport requires nonstop bursts of speed and agility. “I burn twice as many calories playing squash than I do spinning,” Ms. Ghadar says. “You’re constantly running, diving for the ball, twisting and lunging.” Dr. Ghadar likes that squash also requires strategy. “The game is very unpredictable, not like cycling or running,” he says. “As you’re chasing the ball, you think how and where will I hit it. It’s like chess on steroids.”\n",
    "\n",
    "Both are self-described type-A personalities. After matches, the two grab coffee and catch up. “You really can’t chat on the court,” Dr. Ghadar says. “You’re just focused on breathing.”'''"
   ]
  },
  {
   "cell_type": "markdown",
   "metadata": {},
   "source": [
    "#### Example\n",
    "a) How will you get words from a given piece of text? You need to _split_ a string by space. Use _split_ function\n",
    "b) Words 'The' and 'the' should not be counted as different words. Hence we need to convert all text into lowercase. How will you turn all text into lower case? Use _lower_ function"
   ]
  },
  {
   "cell_type": "code",
   "execution_count": null,
   "metadata": {},
   "outputs": [],
   "source": [
    "#How split works\n",
    "sent = \"This sentence has five words\"\n",
    "\n",
    "sent.split()"
   ]
  },
  {
   "cell_type": "code",
   "execution_count": null,
   "metadata": {
    "scrolled": false
   },
   "outputs": [],
   "source": [
    "words = wsj.lower().split()\n",
    "\n",
    "c = Counter(words)\n",
    "\n",
    "c.most_common(10)"
   ]
  },
  {
   "cell_type": "markdown",
   "metadata": {},
   "source": [
    "### Test Yourself 3\n",
    "#### write, load and use a module that contains your functions for Test Yourself 1-2\n",
    "e.g.\n",
    "```python\n",
    "import testyourself\n",
    "a = ...\n",
    "b = ...\n",
    "c = testyourself.one([YOUR CODE HERE])\n",
    "d = testyourself.two([YOUR CODE HERE])\n",
    "```"
   ]
  },
  {
   "cell_type": "markdown",
   "metadata": {},
   "source": [
    "------\n",
    "### Reading and writing files\n",
    "\n",
    "You can use Python to read a file and also to write to a file. For both reading and writing, the function _open_ can be used. _open_ function takes a file name as first parameter and a _mode_ as second paramter. _mode_ tells whether the file can only be read or the file can be written or the file can be appended to. There are three modes:\n",
    "\n",
    "* 'r': read mode. It is the default mode for open() function. It is used when you intend to just read the file and don't want to change the contents of the file\n",
    "* 'a': append mode. It is used when to you want add content to a file without modifying the existing content in the file\n",
    "* 'w': write mode. It was used when you want to overwrite all contents of the file with your own content\n",
    "\n",
    "```python\n",
    "fileToRead = open('path/to/file/filename','r')\n",
    "fileToRead = open('path/to/file/filename')\n",
    "\n",
    "fileToAppend = open('path/to/file/filename', 'a')\n",
    "\n",
    "fileToWrite = open('path/to/file/filename', 'w')\n",
    "```\n",
    "\n",
    "\n",
    "#### Reading a file\n",
    "Let's create a file named poem.txt with the following content and store it in a folder named files under the current working directory:\n",
    "\n",
    "```\n",
    "A thing of beauty is a joy for ever: \n",
    "Its lovliness increases; it will never \n",
    "Pass into nothingness; but still will keep \n",
    "A bower quiet for us, and a sleep \n",
    "Full of sweet dreams, and health, and quiet breathing.\n",
    "```\n",
    "\n",
    "We will read the file and print out its contents now:"
   ]
  },
  {
   "cell_type": "code",
   "execution_count": null,
   "metadata": {},
   "outputs": [],
   "source": [
    "f = open(\"files/poem.txt\")\n",
    "\n",
    "f.read()"
   ]
  },
  {
   "cell_type": "markdown",
   "metadata": {},
   "source": [
    "It prints out the entire content of the file and replaces new line with '\\n' \n",
    "\n",
    "'\\n' is used to denote a new line. When printing out, \\n is replaced by a new line:"
   ]
  },
  {
   "cell_type": "code",
   "execution_count": null,
   "metadata": {},
   "outputs": [],
   "source": [
    "a = 'apple\\nbanana'\n",
    "print(a)"
   ]
  },
  {
   "cell_type": "markdown",
   "metadata": {},
   "source": [
    "It's important to close the file handle f once we don't need it anymore:"
   ]
  },
  {
   "cell_type": "code",
   "execution_count": null,
   "metadata": {},
   "outputs": [],
   "source": [
    "f.close()"
   ]
  },
  {
   "cell_type": "markdown",
   "metadata": {},
   "source": [
    "We can also read one line of the file at a time:"
   ]
  },
  {
   "cell_type": "code",
   "execution_count": null,
   "metadata": {},
   "outputs": [],
   "source": [
    "f = open(\"files/poem.txt\")\n",
    "\n",
    "f.readline()"
   ]
  },
  {
   "cell_type": "code",
   "execution_count": null,
   "metadata": {},
   "outputs": [],
   "source": [
    "f.readline()\n",
    "f.close()"
   ]
  },
  {
   "cell_type": "markdown",
   "metadata": {},
   "source": [
    "You can also iterate over each line with _for_"
   ]
  },
  {
   "cell_type": "code",
   "execution_count": null,
   "metadata": {},
   "outputs": [],
   "source": [
    "f = open(\"files/poem.txt\")\n",
    "\n",
    "for line in f:\n",
    "    print(line)\n",
    "    \n",
    "f.close()"
   ]
  },
  {
   "cell_type": "markdown",
   "metadata": {},
   "source": [
    "#### Writing to a file\n",
    "\n",
    "You can write to a file using _write()_ which takes one paramter - the string to be written to the file:"
   ]
  },
  {
   "cell_type": "code",
   "execution_count": null,
   "metadata": {},
   "outputs": [],
   "source": [
    "linesToAdd = 'Therefore, on every morrow, are we wreathing\\nA flowery band to bind us to the earth,\\nSpite of despondence, of the inhuman dearth'\n",
    "\n",
    "#Remember to open the file in mode 'w'\n",
    "f = open(\"files/poem.txt\",'w')\n",
    "\n",
    "f.write(linesToAdd)\n",
    "\n",
    "f.close()"
   ]
  },
  {
   "cell_type": "code",
   "execution_count": null,
   "metadata": {
    "scrolled": true
   },
   "outputs": [],
   "source": [
    "f = open(\"files/poem.txt\")\n",
    "\n",
    "for line in f:\n",
    "    print(line)\n",
    "    print(line.split())\n",
    "    for word in line.split():\n",
    "        print(word)\n",
    "    \n",
    "f.close()"
   ]
  },
  {
   "cell_type": "markdown",
   "metadata": {},
   "source": [
    "### Test Yourself 4\n",
    "#### For all the lines in poem.txt, write a function that swaps the 1st word of line 1 with the 2nd word in line 2, the 2nd word in line 2 with the 3rd word in line 3, ... the n-1th word in line n-1 with the nth word in line n\n",
    "e.g.\n",
    "```python\n",
    "def swap_lines(f)\n",
    "    for line in f:\n",
    "        [YOUR CODE HERE]\n",
    "        ```"
   ]
  },
  {
   "cell_type": "markdown",
   "metadata": {
    "collapsed": true
   },
   "source": [
    "### Numpy and Matplotlib\n",
    "\n",
    "Numpy and Matplotlib are packages with modules - maybe the most common Python packages in the world. If you continue using Python, you may work with these for the rest of your life. Maybe that sounds scary, but let's make it a good thing.\n",
    "\n",
    "Numpy is the go-to package for general math and operations in Python. Particularly, it can be considered the default for storing arrays (1-dimensional row or column vectors) and matrices (multi-dimensional array vectors). Whatever your comfort level is with these topics (don't worry, it will come with time), we can do some neat stuff with it.\n",
    "\n",
    "Matplotlib is useful for plotting and 2D graphics. Together, they are a power couple, as they say. Let's be introduced."
   ]
  },
  {
   "cell_type": "code",
   "execution_count": null,
   "metadata": {},
   "outputs": [],
   "source": [
    "#import the numpy package with short name\n",
    "import numpy as np\n",
    "\n",
    "#import matplotlib module pyplot with short name\n",
    "import matplotlib.pyplot as plt\n",
    "\n",
    "#create and store a linear space, a length in x and y dimensions\n",
    "x = np.linspace(-3.14, 3.14)\n",
    "\n",
    "#make and store a cosine curve\n",
    "cos = np.cos(x)\n",
    "\n",
    "#make and store a sine curve\n",
    "sin = np.sin(x)\n",
    "\n",
    "#plot the cosine and sine curves\n",
    "plt.plot(x,cos)\n",
    "plt.plot(x,sin)\n",
    "\n",
    "#show the plot\n",
    "plt.show()"
   ]
  },
  {
   "cell_type": "markdown",
   "metadata": {},
   "source": [
    "### Arrays and Slice Notation\n",
    "Very useful are arrays and slicing operations, which let us access and assign arrays by start point, end point, step and direction. See the below for general application of slice notation (source: https://stackoverflow.com/questions/509211/understanding-slice-notation)\n",
    "\n",
    "```\n",
    "a[start:stop]  # items start through stop-1\n",
    "a[start:]      # items start through the rest of the array\n",
    "a[:stop]       # items from the beginning through stop-1\n",
    "a[:]           # a copy of the whole array\n",
    "\n",
    "a[start:stop:step] # start through not past stop, by step\n",
    "\n",
    "a[-1]    # last item in the array\n",
    "a[-2:]   # last two items in the array\n",
    "a[:-2]   # everything except the last two items\n",
    "\n",
    "a[::-1]    # all items in the array, reversed\n",
    "a[1::-1]   # the first two items, reversed\n",
    "a[:-3:-1]  # the last two items, reversed\n",
    "a[-3::-1]  # everything except the last two items, reversed\n",
    "```\n",
    "\n",
    "### Matrices, Arrays and Slice Notation\n",
    "At this point, we can start getting into more advanced programming applications. Let's then finish with one more example, where we use Numpy to generate matrices that we use array slice notation to plot image drawings of arbitrary size"
   ]
  },
  {
   "cell_type": "code",
   "execution_count": null,
   "metadata": {},
   "outputs": [],
   "source": [
    "# choose n arbitrary rows x columns\n",
    "n = 8\n",
    "# choose size of 'pixels' for each block\n",
    "p = 56\n",
    "# generate the empty pn x pn 'canvas' to plot an image in\n",
    "canvas = np.empty((p * n, p * n))\n",
    "# generate n x p x p empty matrix\n",
    "g = np.empty((n, p, p)) \n",
    "# generate random (noise) matrix of same dimensions\n",
    "z = np.random.uniform(0., 1., size=((n, p, p)))\n",
    "# iterate through each row and column\n",
    "for i in range(n):\n",
    "    for j in range(n):\n",
    "        # Draw the generated digits\n",
    "        g[i,:,:] = z[i,:,:] * np.cos(i-j)\n",
    "        # feed the jth row of g into each ith and jth block of p pixels\n",
    "        canvas[i * p:(i + 1) * p, j * p:(j + 1) * p] = g[i]\n",
    "plt.figure(figsize=(n, n))\n",
    "plt.imshow(canvas, origin=\"lower\", cmap=\"gray\")\n",
    "plt.show()"
   ]
  },
  {
   "cell_type": "markdown",
   "metadata": {},
   "source": [
    "### Test Yourself 5\n",
    "#### Rewrite the above cell so that it is able to plot a 3 channel color image\n",
    "Hint: The current image above is only 2 dimensions (canvas is pn x pn)\n",
    "\n",
    "Hint 2: There is the hard way (tricky but impressive if you can do it), or a very easy way (try and think of what the parameters are for the methods we are using in these new modules)"
   ]
  },
  {
   "cell_type": "code",
   "execution_count": null,
   "metadata": {},
   "outputs": [],
   "source": []
  }
 ],
 "metadata": {
  "kernelspec": {
   "display_name": "Python 3",
   "language": "python",
   "name": "python3"
  },
  "language_info": {
   "codemirror_mode": {
    "name": "ipython",
    "version": 3
   },
   "file_extension": ".py",
   "mimetype": "text/x-python",
   "name": "python",
   "nbconvert_exporter": "python",
   "pygments_lexer": "ipython3",
   "version": "3.7.3"
  }
 },
 "nbformat": 4,
 "nbformat_minor": 2
}
